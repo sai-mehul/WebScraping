{
  "nbformat": 4,
  "nbformat_minor": 0,
  "metadata": {
    "colab": {
      "name": "web scraping.ipynb",
      "provenance": []
    },
    "kernelspec": {
      "name": "python3",
      "display_name": "Python 3"
    },
    "language_info": {
      "name": "python"
    }
  },
  "cells": [
    {
      "cell_type": "code",
      "execution_count": 2,
      "metadata": {
        "id": "k-2idSs1u9s7"
      },
      "outputs": [],
      "source": [
        "from urllib.request import urlopen"
      ]
    },
    {
      "cell_type": "markdown",
      "source": [
        "this is to import package for requesting urls"
      ],
      "metadata": {
        "id": "crLgc9y7W5uy"
      }
    },
    {
      "cell_type": "code",
      "source": [
        "url = \"https://www.flipkart.com/search?q=iphone&otracker=search&otracker1=search&marketplace=FLIPKART&as-show=on&as=off\""
      ],
      "metadata": {
        "id": "kR8ZbAkJWtgk"
      },
      "execution_count": 3,
      "outputs": []
    },
    {
      "cell_type": "markdown",
      "source": [
        "this is the text for the target url"
      ],
      "metadata": {
        "id": "acNj7CeMf8y7"
      }
    },
    {
      "cell_type": "code",
      "source": [
        "page = urlopen(url)\n",
        "page"
      ],
      "metadata": {
        "colab": {
          "base_uri": "https://localhost:8080/"
        },
        "id": "iIXoQ7HmgCw2",
        "outputId": "893123b2-d3ac-4f4f-e6f2-70958bac7a8e"
      },
      "execution_count": 5,
      "outputs": [
        {
          "output_type": "execute_result",
          "data": {
            "text/plain": [
              "<http.client.HTTPResponse at 0x7fc1608aa350>"
            ]
          },
          "metadata": {},
          "execution_count": 5
        }
      ]
    },
    {
      "cell_type": "code",
      "source": [
        "html_read = page.read()\n",
        "html = html_read.decode(\"utf-8 \")"
      ],
      "metadata": {
        "id": "SldOIA-7geKh"
      },
      "execution_count": 9,
      "outputs": []
    },
    {
      "cell_type": "markdown",
      "source": [
        "this code is to make the package read it and decode it via utf-8 encoding "
      ],
      "metadata": {
        "id": "XaNeqr_ohvrz"
      }
    },
    {
      "cell_type": "code",
      "source": [
        "title_find = html.find(\"<div>\")\n",
        "title_find"
      ],
      "metadata": {
        "colab": {
          "base_uri": "https://localhost:8080/"
        },
        "id": "Y4tAhrHlh5aO",
        "outputId": "e08b1b5d-b42d-44d5-9f5c-6a0457de8aae"
      },
      "execution_count": 20,
      "outputs": [
        {
          "output_type": "execute_result",
          "data": {
            "text/plain": [
              "-1"
            ]
          },
          "metadata": {},
          "execution_count": 20
        }
      ]
    }
  ]
}